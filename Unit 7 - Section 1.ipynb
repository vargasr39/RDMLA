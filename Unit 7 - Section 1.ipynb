{
 "cells": [
  {
   "cell_type": "markdown",
   "metadata": {},
   "source": [
    "# Unit 7 - Section 1: An Introduction to Python & Jupyter"
   ]
  },
  {
   "cell_type": "code",
   "execution_count": 1,
   "metadata": {
    "collapsed": false
   },
   "outputs": [
    {
     "data": {
      "text/html": [
       "<style>.container { width:100% !important; }</style>"
      ],
      "text/plain": [
       "<IPython.core.display.HTML object>"
      ]
     },
     "metadata": {},
     "output_type": "display_data"
    }
   ],
   "source": [
    "from IPython.core.display import display, HTML\n",
    "display(HTML(\"<style>.container { width:100% !important; }</style>\"))\n",
    "\n",
    "import warnings\n",
    "warnings.filterwarnings('ignore')"
   ]
  },
  {
   "cell_type": "markdown",
   "metadata": {},
   "source": [
    "# Outline"
   ]
  },
  {
   "cell_type": "markdown",
   "metadata": {},
   "source": [
    "__[1.1] Introduction to Python & Jupyter Notebooks__\n",
    "\n",
    "__[1.2] Basic Data Types: *Strings*, *Integers* & *Floats*__\n",
    "\n",
    "__[1.3] Basic Data Structures: *Lists* & *Dictionaries*__\n",
    "\n",
    "__[1.4] Writing basic functions, *if* statements and Importing External Packages__\n",
    "\n",
    "__References__"
   ]
  },
  {
   "cell_type": "markdown",
   "metadata": {},
   "source": [
    "# [1.1] Introduction to Python & Jupyter Notebooks"
   ]
  },
  {
   "cell_type": "markdown",
   "metadata": {},
   "source": [
    "## Python"
   ]
  },
  {
   "cell_type": "markdown",
   "metadata": {},
   "source": [
    "**Python** is a programming language. We can write instructions (i.e. code) in Python to carry out a specific set of tasks. Python is the work-horse of this Unit and we will be using the language to create visualizations & conduct data analysis.\n",
    "\n",
    "- If you'd like to learn how to install Python & Jupyter Notebooks onto your computer, I recommend the following [tutorial](https://www.dataquest.io/blog/jupyter-notebook-tutorial/) it doesn't take took long and doesn't require many steps. To run the notebooks in this unit, all you will need to do is:"
   ]
  },
  {
   "cell_type": "markdown",
   "metadata": {},
   "source": [
    "1. download the **Anaconda** distribution for **python3** from the Anaconda [website](https://www.anaconda.com/distribution/)\n",
    "1. follow the installation instructions from the Anaconda website after downloading\n",
    "1. follow the instructions to download 2 additional packages: (1) geopandas and (2) statsmodels for the *3rd* notebook (this takes seconds)."
   ]
  },
  {
   "cell_type": "markdown",
   "metadata": {},
   "source": [
    "Once you have everything installed, you can download the notebooks from the Github repository & run through them yourself. And having Anaconda installed on your computer, should you choose to enter the world of data analysis and visualization will be incredibly handy!"
   ]
  },
  {
   "cell_type": "markdown",
   "metadata": {},
   "source": [
    "## Jupyter Notebooks"
   ]
  },
  {
   "cell_type": "markdown",
   "metadata": {},
   "source": [
    "**Jupyter Notebooks** are the interface that we will use to interact with **Python**. What your looking at right now is a Jupyter Notebook! These notebooks are incredibly useful for testing chunks of code and analyzing the output that those chunks of code yield.\n",
    "\n",
    "- You can write code, test & run that code and write notes in these notebooks to help construct your analysis or share your work with others!\n",
    "\n",
    "- Jupyter Notebooks have two different types of **cells**\n",
    "\n",
    "- **Markdown Cells**: These cells are used for taking notes. All of the headers in this notebook are written in *Markdown* cells as well as the notes that you're reading right now. You can change the types of cells with the bar at the top of each notebook.\n",
    "\n",
    "- **Code Cells**: These cells are used for executing (i.e. running) code. These cells will either have *IN [ ]:* or *IN [n]:* to the left of them, where *n* is some number that represents the order that these cells were executed in. The output of any code run from one of these cells is displayed below the cell."
   ]
  },
  {
   "cell_type": "markdown",
   "metadata": {},
   "source": [
    "A **Kernel** is the *Computational Engine* behind every active Jupyter Notebook. The Kernel is always running in the background and is where the execution of the code takes place. The entire notebook runs on a single *Kernel*, so that computations run in one *code* cell will carry on over to computation from another *code* cell."
   ]
  },
  {
   "cell_type": "markdown",
   "metadata": {},
   "source": [
    "We'll run through all of these concepts again and again, as they are central to learning how to use *Jupyter Notebooks* to analyze and visualize data. Of important note is that Jupyter Notebooks themselves are files that can be stored & saved, like the one you're currently viewing."
   ]
  },
  {
   "cell_type": "markdown",
   "metadata": {},
   "source": [
    "##### You don't have to have Anaconda or Jupyter installed on your computer to takeaway the main concepts from this Unit. One of the big advantages to Jupyter Notebooks is that you can easily share ideas and the results of data analyses with others. So feel free to just scroll throuth the notebooks to see what types of things you can do with Python!"
   ]
  },
  {
   "cell_type": "markdown",
   "metadata": {},
   "source": [
    "# [1.2] Basic Data Types: *Strings*, *Integers* & *Floats*"
   ]
  },
  {
   "cell_type": "markdown",
   "metadata": {},
   "source": [
    "Python has a lot of built-in data types. The basic idea is that you'll have some string of text that you want to manipulate or store as a label. Or you might have some number that respresents some data, like the temperature on a given day. Perhaps you want to record the temperature for Tuesday, Wednesday & Thursday, we'll see how the different data types in Python come into play."
   ]
  },
  {
   "cell_type": "markdown",
   "metadata": {},
   "source": [
    "A **String** is a piece of text that is surrounded by quotation marks (either single or double marks work fine), note that entering a string into a *code* cell also prints the string out at the end. **Note**: that you can enter comments into *code* cells just by preceding the text of the comment with a #"
   ]
  },
  {
   "cell_type": "code",
   "execution_count": 17,
   "metadata": {
    "collapsed": false
   },
   "outputs": [
    {
     "data": {
      "text/plain": [
       "'This is a string'"
      ]
     },
     "execution_count": 17,
     "metadata": {},
     "output_type": "execute_result"
    }
   ],
   "source": [
    "'This is a string' #string"
   ]
  },
  {
   "cell_type": "code",
   "execution_count": 18,
   "metadata": {
    "collapsed": false
   },
   "outputs": [
    {
     "data": {
      "text/plain": [
       "str"
      ]
     },
     "execution_count": 18,
     "metadata": {},
     "output_type": "execute_result"
    }
   ],
   "source": [
    "type( 'This is a string' )"
   ]
  },
  {
   "cell_type": "markdown",
   "metadata": {},
   "source": [
    "**Integers** and **Floats** are both ways to store numbers. You can use *Integers* to store whole numbers and *Floats* to store decimals. I'd recommend sticking to *Floats* for data analysis since most data is usually riddled with numbers that have decimals in them."
   ]
  },
  {
   "cell_type": "code",
   "execution_count": 19,
   "metadata": {
    "collapsed": false
   },
   "outputs": [
    {
     "data": {
      "text/plain": [
       "4"
      ]
     },
     "execution_count": 19,
     "metadata": {},
     "output_type": "execute_result"
    }
   ],
   "source": [
    "4 #integer"
   ]
  },
  {
   "cell_type": "code",
   "execution_count": 20,
   "metadata": {
    "collapsed": false
   },
   "outputs": [
    {
     "data": {
      "text/plain": [
       "int"
      ]
     },
     "execution_count": 20,
     "metadata": {},
     "output_type": "execute_result"
    }
   ],
   "source": [
    "type( 4 )"
   ]
  },
  {
   "cell_type": "code",
   "execution_count": 21,
   "metadata": {
    "collapsed": false
   },
   "outputs": [
    {
     "data": {
      "text/plain": [
       "4.5"
      ]
     },
     "execution_count": 21,
     "metadata": {},
     "output_type": "execute_result"
    }
   ],
   "source": [
    "4.5 #float"
   ]
  },
  {
   "cell_type": "code",
   "execution_count": 22,
   "metadata": {
    "collapsed": false
   },
   "outputs": [
    {
     "data": {
      "text/plain": [
       "float"
      ]
     },
     "execution_count": 22,
     "metadata": {},
     "output_type": "execute_result"
    }
   ],
   "source": [
    "type( 4.5 )"
   ]
  },
  {
   "cell_type": "markdown",
   "metadata": {},
   "source": [
    "## Running Code"
   ]
  },
  {
   "cell_type": "markdown",
   "metadata": {},
   "source": [
    "As as first step, we'll write some very basic code in Python that we'll execute in a *code* cell. All we want the code to do is to **output** the words *Hello World*, this can be done with a simple *print* command, a function that takes a string of input."
   ]
  },
  {
   "cell_type": "code",
   "execution_count": 23,
   "metadata": {
    "collapsed": false,
    "scrolled": true
   },
   "outputs": [
    {
     "name": "stdout",
     "output_type": "stream",
     "text": [
      "Hello World!\n"
     ]
    }
   ],
   "source": [
    "print('Hello World!')"
   ]
  },
  {
   "cell_type": "markdown",
   "metadata": {},
   "source": [
    "All you have to do to run code in a *code* cell is have the cell highlighted and print the RUN command at the top of the notebook or hit SHIFT + ENTER."
   ]
  },
  {
   "cell_type": "markdown",
   "metadata": {},
   "source": [
    "## Python as a Calculator"
   ]
  },
  {
   "cell_type": "markdown",
   "metadata": {},
   "source": [
    "We can use Python to do some basic computations, remember that anything written in the *code* cells is exected on a Kernel."
   ]
  },
  {
   "cell_type": "code",
   "execution_count": 24,
   "metadata": {
    "collapsed": false
   },
   "outputs": [
    {
     "data": {
      "text/plain": [
       "12.0"
      ]
     },
     "execution_count": 24,
     "metadata": {},
     "output_type": "execute_result"
    }
   ],
   "source": [
    "5.0 + 7.0 #addition"
   ]
  },
  {
   "cell_type": "code",
   "execution_count": 25,
   "metadata": {
    "collapsed": false
   },
   "outputs": [
    {
     "data": {
      "text/plain": [
       "5.0"
      ]
     },
     "execution_count": 25,
     "metadata": {},
     "output_type": "execute_result"
    }
   ],
   "source": [
    "10.0 / 2.0 #division"
   ]
  },
  {
   "cell_type": "code",
   "execution_count": 26,
   "metadata": {
    "collapsed": false
   },
   "outputs": [
    {
     "data": {
      "text/plain": [
       "9.0"
      ]
     },
     "execution_count": 26,
     "metadata": {},
     "output_type": "execute_result"
    }
   ],
   "source": [
    "3.0 ** 2 #this denotes an exponent, 3 squared or 3x3 is 9"
   ]
  },
  {
   "cell_type": "code",
   "execution_count": 27,
   "metadata": {
    "collapsed": false
   },
   "outputs": [
    {
     "data": {
      "text/plain": [
       "13.333333333333334"
      ]
     },
     "execution_count": 27,
     "metadata": {},
     "output_type": "execute_result"
    }
   ],
   "source": [
    "(9.0 + 11.0) / 1.5 #you can combine operations"
   ]
  },
  {
   "cell_type": "markdown",
   "metadata": {},
   "source": [
    "## Variables"
   ]
  },
  {
   "cell_type": "markdown",
   "metadata": {},
   "source": [
    "It's often helpful to have place-holders for quantities of interest. We call these place-holders variables and they can store any data type. Let's say you wanted to store your favorite day of the week in a variable called *fav_day*, you can assign it as follows:"
   ]
  },
  {
   "cell_type": "code",
   "execution_count": 28,
   "metadata": {
    "collapsed": true
   },
   "outputs": [],
   "source": [
    "fav_day = 'Saturday' #here we're storing a string in a variable"
   ]
  },
  {
   "cell_type": "markdown",
   "metadata": {},
   "source": [
    "Now at some point later in the analysis, suppose we want the data that we stored in the variable. We can print what's inside as follows:"
   ]
  },
  {
   "cell_type": "code",
   "execution_count": 29,
   "metadata": {
    "collapsed": false
   },
   "outputs": [
    {
     "name": "stdout",
     "output_type": "stream",
     "text": [
      "Saturday\n"
     ]
    }
   ],
   "source": [
    "print(fav_day)"
   ]
  },
  {
   "cell_type": "markdown",
   "metadata": {},
   "source": [
    "Or maybe you'd like to store your favorite number:"
   ]
  },
  {
   "cell_type": "code",
   "execution_count": 30,
   "metadata": {
    "collapsed": true
   },
   "outputs": [],
   "source": [
    "fav_num = 3.14"
   ]
  },
  {
   "cell_type": "code",
   "execution_count": 31,
   "metadata": {
    "collapsed": false
   },
   "outputs": [
    {
     "name": "stdout",
     "output_type": "stream",
     "text": [
      "3.14\n"
     ]
    }
   ],
   "source": [
    "print(fav_num)"
   ]
  },
  {
   "cell_type": "markdown",
   "metadata": {},
   "source": [
    "You can store a lot of different *objects* and *structures* in variables, you will see why variables are so useful below."
   ]
  },
  {
   "cell_type": "markdown",
   "metadata": {},
   "source": [
    "# [1.3] Basic Data Structures: *Lists* & *Dictionaries*"
   ]
  },
  {
   "cell_type": "markdown",
   "metadata": {},
   "source": [
    "In data analysis (and visualization) it is incredibly useful to be able to store your data in some structure that can be called when you want to graph it or preform some computation on it. This is where **Lists** and **Dictionaries** come into play. These structures can be used to create a bunch of numbers or strings or actually a lot of other things!"
   ]
  },
  {
   "cell_type": "markdown",
   "metadata": {},
   "source": [
    "## Lists"
   ]
  },
  {
   "cell_type": "markdown",
   "metadata": {},
   "source": [
    "**Lists** are ordered, meaning that the things that are stored inside of them are stored in an ordered way. For example, let's say we want to store what the average temperature is every day for a week and suppose that the data looked like this (where temperature is in Farenheit)\n",
    "\n",
    "1. Monday = 69 degrees\n",
    "1. Tuesday = 70 degrees\n",
    "1. Wednesday = 73 degrees\n",
    "1. Thursday = 77 degrees\n",
    "1. Friday = 69 degrees\n",
    "1. Saturday = 66 degrees\n",
    "1. Sunday = 68 degrees"
   ]
  },
  {
   "cell_type": "markdown",
   "metadata": {},
   "source": [
    "We can store the temperature data as a list (denoted with square brackets) where each entry is seperated by a ',' :"
   ]
  },
  {
   "cell_type": "code",
   "execution_count": 32,
   "metadata": {
    "collapsed": false
   },
   "outputs": [
    {
     "data": {
      "text/plain": [
       "[69.0, 70.0, 73.0, 77.0, 69.0, 66.0, 68.0]"
      ]
     },
     "execution_count": 32,
     "metadata": {},
     "output_type": "execute_result"
    }
   ],
   "source": [
    "[69.0 , 70.0 , 73.0 , 77.0 , 69.0 , 66.0 , 68.0]"
   ]
  },
  {
   "cell_type": "markdown",
   "metadata": {},
   "source": [
    "We can also store this list in a variable so I can access it later:"
   ]
  },
  {
   "cell_type": "code",
   "execution_count": 33,
   "metadata": {
    "collapsed": true
   },
   "outputs": [],
   "source": [
    "avg_temp = [69.0 , 70.0 , 73.0 , 77.0 , 69.0 , 66.0 , 68.0]"
   ]
  },
  {
   "cell_type": "code",
   "execution_count": 34,
   "metadata": {
    "collapsed": false
   },
   "outputs": [
    {
     "name": "stdout",
     "output_type": "stream",
     "text": [
      "[69.0, 70.0, 73.0, 77.0, 69.0, 66.0, 68.0]\n"
     ]
    }
   ],
   "source": [
    "print(avg_temp)"
   ]
  },
  {
   "cell_type": "markdown",
   "metadata": {},
   "source": [
    "Now we have an ordering of the temperatures for each day of the week. But let's say we also wanted the weekday that each temperature corresponds to. We can make a seperate list to include the weekdays as strings where the ordering (index) of each list matches up (the 3rd element of the temperature list is the temperature on the day of the 3rd element of the weekday list."
   ]
  },
  {
   "cell_type": "code",
   "execution_count": 35,
   "metadata": {
    "collapsed": true
   },
   "outputs": [],
   "source": [
    "weekday = ['Monday' , 'Tuesday' , 'Wednesday' , 'Thursday' , 'Friday' , 'Saturday' , 'Sunday']"
   ]
  },
  {
   "cell_type": "code",
   "execution_count": 36,
   "metadata": {
    "collapsed": false
   },
   "outputs": [
    {
     "name": "stdout",
     "output_type": "stream",
     "text": [
      "['Monday', 'Tuesday', 'Wednesday', 'Thursday', 'Friday', 'Saturday', 'Sunday'] [69.0, 70.0, 73.0, 77.0, 69.0, 66.0, 68.0]\n"
     ]
    }
   ],
   "source": [
    "print(weekday , avg_temp)"
   ]
  },
  {
   "cell_type": "markdown",
   "metadata": {},
   "source": [
    "While lists are quite handy, there's actually an easier way to match up labels to data. Another *Data Structure*, called a **dictionary** allows you to index each entry of a list-like structure with a *key* or label. Dictionaries are denoted by curly brackets; each entry is structured as *key* : *value* is is sepeated by a ','"
   ]
  },
  {
   "cell_type": "markdown",
   "metadata": {},
   "source": [
    "**Imporant Notes:**\n",
    "\n",
    "- Python starts counting from 0 not 1. So the first element in the list is actually the 0th element in the list.\n",
    "\n",
    "- You can **index** lists by using integers if you want to retreive the ith element in the list. So I see that Monday is the first (or 0th) element in the list, if I want to retrieve the temperature for Monday I can index the list of temperatures as so:"
   ]
  },
  {
   "cell_type": "code",
   "execution_count": 37,
   "metadata": {
    "collapsed": false
   },
   "outputs": [
    {
     "name": "stdout",
     "output_type": "stream",
     "text": [
      "69.0\n"
     ]
    }
   ],
   "source": [
    "print(avg_temp[0])"
   ]
  },
  {
   "cell_type": "markdown",
   "metadata": {},
   "source": [
    "And if I want the temperature for Wednesday (which has an index of 2), then I can get it as:"
   ]
  },
  {
   "cell_type": "code",
   "execution_count": 38,
   "metadata": {
    "collapsed": false
   },
   "outputs": [
    {
     "name": "stdout",
     "output_type": "stream",
     "text": [
      "73.0\n"
     ]
    }
   ],
   "source": [
    "print(avg_temp[2])"
   ]
  },
  {
   "cell_type": "markdown",
   "metadata": {},
   "source": [
    "## Dictionaries"
   ]
  },
  {
   "cell_type": "markdown",
   "metadata": {},
   "source": [
    "**Dictionaries** can be constructed in a few different ways. The *first* is to create one with all of the entries at once:"
   ]
  },
  {
   "cell_type": "code",
   "execution_count": 39,
   "metadata": {
    "collapsed": true
   },
   "outputs": [],
   "source": [
    "avg_temp_dict = {\n",
    "'Monday' : 69.0,\n",
    "'Tuesday' : 70.0,\n",
    "'Wednesday' : 73.0,\n",
    "'Thursday' : 77.0, \n",
    "'Friday' : 69.0, \n",
    "'Saturday' : 66.0}"
   ]
  },
  {
   "cell_type": "code",
   "execution_count": 40,
   "metadata": {
    "collapsed": false
   },
   "outputs": [
    {
     "name": "stdout",
     "output_type": "stream",
     "text": [
      "{'Monday': 69.0, 'Tuesday': 70.0, 'Wednesday': 73.0, 'Thursday': 77.0, 'Friday': 69.0, 'Saturday': 66.0}\n"
     ]
    }
   ],
   "source": [
    "print(avg_temp_dict)"
   ]
  },
  {
   "cell_type": "markdown",
   "metadata": {},
   "source": [
    "You can then retreive the temperature for a given day like this"
   ]
  },
  {
   "cell_type": "code",
   "execution_count": 41,
   "metadata": {
    "collapsed": false
   },
   "outputs": [
    {
     "name": "stdout",
     "output_type": "stream",
     "text": [
      "70.0\n"
     ]
    }
   ],
   "source": [
    "print( avg_temp_dict['Tuesday'] ) #we want the temperature for Tuesday"
   ]
  },
  {
   "cell_type": "markdown",
   "metadata": {},
   "source": [
    "Another way of adding elements to a dictionary is to add elements to a pre-existing dictionary. Looks like we forgot Sunday, so let's add it!"
   ]
  },
  {
   "cell_type": "code",
   "execution_count": 42,
   "metadata": {
    "collapsed": true
   },
   "outputs": [],
   "source": [
    "avg_temp_dict['Sunday'] = 68.0"
   ]
  },
  {
   "cell_type": "code",
   "execution_count": 43,
   "metadata": {
    "collapsed": false
   },
   "outputs": [
    {
     "name": "stdout",
     "output_type": "stream",
     "text": [
      "{'Monday': 69.0, 'Tuesday': 70.0, 'Wednesday': 73.0, 'Thursday': 77.0, 'Friday': 69.0, 'Saturday': 66.0, 'Sunday': 68.0}\n"
     ]
    }
   ],
   "source": [
    "print(avg_temp_dict) #we have Sunday added to the list now"
   ]
  },
  {
   "cell_type": "markdown",
   "metadata": {},
   "source": [
    "A couple of other things to note about Dictionaries\n",
    "\n",
    "- You can retreive just the KEYS or just the VALUES \n",
    "- The KEYS have to be unique, you can't have the same KEY correspond to 2 or more VALUES"
   ]
  },
  {
   "cell_type": "code",
   "execution_count": 44,
   "metadata": {
    "collapsed": false
   },
   "outputs": [
    {
     "data": {
      "text/plain": [
       "dict_keys(['Monday', 'Tuesday', 'Wednesday', 'Thursday', 'Friday', 'Saturday', 'Sunday'])"
      ]
     },
     "execution_count": 44,
     "metadata": {},
     "output_type": "execute_result"
    }
   ],
   "source": [
    "avg_temp_dict.keys() #just get the keys"
   ]
  },
  {
   "cell_type": "code",
   "execution_count": 45,
   "metadata": {
    "collapsed": false
   },
   "outputs": [
    {
     "data": {
      "text/plain": [
       "dict_values([69.0, 70.0, 73.0, 77.0, 69.0, 66.0, 68.0])"
      ]
     },
     "execution_count": 45,
     "metadata": {},
     "output_type": "execute_result"
    }
   ],
   "source": [
    "avg_temp_dict.values() #just get the values"
   ]
  },
  {
   "cell_type": "markdown",
   "metadata": {},
   "source": [
    "# [1.4] Writing basic functions, *if* statements and Importing External Packages"
   ]
  },
  {
   "cell_type": "markdown",
   "metadata": {},
   "source": [
    "## Functions"
   ]
  },
  {
   "cell_type": "markdown",
   "metadata": {},
   "source": [
    "If there is a process or set of instructions that you'd like to repeat, then it'd be useful to have a way to call that set of instructions again without having to write out the script again. For example, let's say that I want the Python to print the following message: \"Happy Birthday Roger!\", I could just do:"
   ]
  },
  {
   "cell_type": "code",
   "execution_count": 46,
   "metadata": {
    "collapsed": false
   },
   "outputs": [
    {
     "name": "stdout",
     "output_type": "stream",
     "text": [
      "Happy Birthday Roger\n"
     ]
    }
   ],
   "source": [
    "name = 'Roger' #variable to store my name\n",
    "print('Happy Birthday ' + name) # you can join (concatente) 2 strings"
   ]
  },
  {
   "cell_type": "markdown",
   "metadata": {},
   "source": [
    "But let's say that I wanted to modify this so that the message could take anyone's name, and then write the approprate message for them. We will define a function to do this with the input being the individual's name."
   ]
  },
  {
   "cell_type": "code",
   "execution_count": 47,
   "metadata": {
    "collapsed": true
   },
   "outputs": [],
   "source": [
    "def happy_bday(name): #this is how you define a function\n",
    "    print('Happy Birthday ' + name)"
   ]
  },
  {
   "cell_type": "markdown",
   "metadata": {},
   "source": [
    "Now if we want to wish Happy Birthday to someone else, we can use the function that we just defined"
   ]
  },
  {
   "cell_type": "code",
   "execution_count": 48,
   "metadata": {
    "collapsed": false
   },
   "outputs": [
    {
     "name": "stdout",
     "output_type": "stream",
     "text": [
      "Happy Birthday Scott\n"
     ]
    }
   ],
   "source": [
    "happy_bday('Scott')"
   ]
  },
  {
   "cell_type": "markdown",
   "metadata": {},
   "source": [
    "Obviously this is a very simple example, and in this case you could've just written out the message but chunks of code can get unwieldy very quickly and functions are a useful way writing a script for a given task, then re-using it again easily for other tasks. "
   ]
  },
  {
   "cell_type": "markdown",
   "metadata": {},
   "source": [
    "## *if* statements "
   ]
  },
  {
   "cell_type": "markdown",
   "metadata": {},
   "source": [
    "Another useful thing you can do in Python is an *if statement* which basically just tells your code to check that some condition is met before continuing with the execution of the code.\n",
    "\n",
    "Let's say you didn't like someone named Cersei very much and instead of wishing her a Happy Birthday in the function we defined above, you wanted the function to return another message when Cersei's name is input. We can use an if statement to check the name (input) and return a different message depending on whether the name is Cersei or not."
   ]
  },
  {
   "cell_type": "code",
   "execution_count": 49,
   "metadata": {
    "collapsed": true
   },
   "outputs": [],
   "source": [
    "def happy_bday(name): \n",
    "    \n",
    "    #check to see if the input name is Cersei\n",
    "    if name == 'Cersei': #if this condition is True, then print message below\n",
    "        print('Screw you Cersei!')\n",
    "        \n",
    "    else: #otherwise, for any other name, just wish that person a happy birthday\n",
    "        print('Happy Birthday ' + name)"
   ]
  },
  {
   "cell_type": "markdown",
   "metadata": {},
   "source": [
    "Let's see this in action:"
   ]
  },
  {
   "cell_type": "code",
   "execution_count": 50,
   "metadata": {
    "collapsed": false
   },
   "outputs": [
    {
     "name": "stdout",
     "output_type": "stream",
     "text": [
      "Happy Birthday Roger\n"
     ]
    }
   ],
   "source": [
    "happy_bday('Roger')"
   ]
  },
  {
   "cell_type": "code",
   "execution_count": 51,
   "metadata": {
    "collapsed": false
   },
   "outputs": [
    {
     "name": "stdout",
     "output_type": "stream",
     "text": [
      "Screw you Cersei!\n"
     ]
    }
   ],
   "source": [
    "happy_bday('Cersei')"
   ]
  },
  {
   "cell_type": "markdown",
   "metadata": {},
   "source": [
    "Looks like it works!"
   ]
  },
  {
   "cell_type": "markdown",
   "metadata": {},
   "source": [
    "## Importing External Packages"
   ]
  },
  {
   "cell_type": "markdown",
   "metadata": {},
   "source": [
    "While Python comes with many of the tools you'll need to in order to conduct your analysis, sometimes you may need to download **external packages**. Packages are compiled by other people for several purposes and need to be downloaded once, then **imported** in your Jupyter Notebook/Script when you want to use tools from these packages. We'll cover two of the most widely used packages here **Numpy** and **Pandas** and will cover another package called **Matplotlib** when we start covering data visualization."
   ]
  },
  {
   "cell_type": "markdown",
   "metadata": {},
   "source": [
    "### Numpy"
   ]
  },
  {
   "cell_type": "markdown",
   "metadata": {},
   "source": [
    "We've introduced **lists** at this point, which hold an ordered set of data types that can be strings or floats or even other lists & dictionaries. But a lot of time in data analysis, you'll want to exclusively deal with a list of floats and manipulating this list gets a lot easier by turning it into a **Numpy** array. Numpy is a widely used package in the scientific computing community that uses Python and while we won't delve too far into it, it's useful to see some basic things in it."
   ]
  },
  {
   "cell_type": "code",
   "execution_count": 52,
   "metadata": {
    "collapsed": true
   },
   "outputs": [],
   "source": [
    "avg_temp = [69.0 , 70.0 , 73.0 , 77.0 , 69.0 , 66.0 , 68.0]"
   ]
  },
  {
   "cell_type": "code",
   "execution_count": 53,
   "metadata": {
    "collapsed": false
   },
   "outputs": [
    {
     "name": "stdout",
     "output_type": "stream",
     "text": [
      "[69.0, 70.0, 73.0, 77.0, 69.0, 66.0, 68.0]\n"
     ]
    }
   ],
   "source": [
    "print(avg_temp)"
   ]
  },
  {
   "cell_type": "code",
   "execution_count": 54,
   "metadata": {
    "collapsed": false
   },
   "outputs": [
    {
     "data": {
      "text/plain": [
       "list"
      ]
     },
     "execution_count": 54,
     "metadata": {},
     "output_type": "execute_result"
    }
   ],
   "source": [
    "type(avg_temp)"
   ]
  },
  {
   "cell_type": "markdown",
   "metadata": {},
   "source": [
    "We're going to convert this list to a numpy array"
   ]
  },
  {
   "cell_type": "code",
   "execution_count": 55,
   "metadata": {
    "collapsed": true
   },
   "outputs": [],
   "source": [
    "import numpy as np #import the package"
   ]
  },
  {
   "cell_type": "code",
   "execution_count": 56,
   "metadata": {
    "collapsed": true
   },
   "outputs": [],
   "source": [
    "avg_temp = np.array(avg_temp)"
   ]
  },
  {
   "cell_type": "code",
   "execution_count": 57,
   "metadata": {
    "collapsed": false
   },
   "outputs": [
    {
     "name": "stdout",
     "output_type": "stream",
     "text": [
      "[69. 70. 73. 77. 69. 66. 68.]\n"
     ]
    }
   ],
   "source": [
    "print(avg_temp)"
   ]
  },
  {
   "cell_type": "code",
   "execution_count": 58,
   "metadata": {
    "collapsed": false
   },
   "outputs": [
    {
     "data": {
      "text/plain": [
       "numpy.ndarray"
      ]
     },
     "execution_count": 58,
     "metadata": {},
     "output_type": "execute_result"
    }
   ],
   "source": [
    "type(avg_temp) #the object is now a numpy array"
   ]
  },
  {
   "cell_type": "markdown",
   "metadata": {},
   "source": [
    "This is pretty useful as numpy arrays have a lot of useful properties. Let say I want to get the *sum* and the *mean* of all of the temperatures. "
   ]
  },
  {
   "cell_type": "code",
   "execution_count": 59,
   "metadata": {
    "collapsed": false
   },
   "outputs": [
    {
     "name": "stdout",
     "output_type": "stream",
     "text": [
      "492.0\n"
     ]
    }
   ],
   "source": [
    "print(avg_temp.sum()) #add all of the temperature together"
   ]
  },
  {
   "cell_type": "code",
   "execution_count": 60,
   "metadata": {
    "collapsed": false
   },
   "outputs": [
    {
     "name": "stdout",
     "output_type": "stream",
     "text": [
      "70.28571428571429\n"
     ]
    }
   ],
   "source": [
    "print(avg_temp.mean()) #average temperature during the week"
   ]
  },
  {
   "cell_type": "markdown",
   "metadata": {},
   "source": [
    "Numpy arrays are also useful for plotting data which we'll see shortly."
   ]
  },
  {
   "cell_type": "markdown",
   "metadata": {},
   "source": [
    "### Pandas"
   ]
  },
  {
   "cell_type": "markdown",
   "metadata": {},
   "source": [
    "Another very useful package for data analysis is **Pandas**. Pandas offers a convenient way to store & manipulate real-word data. We will make use of this package extensively in the last notebook. For now let's revisit the dictionary that we constructed earlier and turn it into an object called a pandas *series*."
   ]
  },
  {
   "cell_type": "markdown",
   "metadata": {},
   "source": [
    "This is the dictionary from earlier - "
   ]
  },
  {
   "cell_type": "code",
   "execution_count": 61,
   "metadata": {
    "collapsed": true
   },
   "outputs": [],
   "source": [
    "avg_temp_dict = {\n",
    "'Monday' : 69.0,\n",
    "'Tuesday' : 70.0,\n",
    "'Wednesday' : 73.0,\n",
    "'Thursday' : 77.0, \n",
    "'Friday' : 69.0, \n",
    "'Saturday' : 66.0,\n",
    "'Sunday' : 68.0}"
   ]
  },
  {
   "cell_type": "code",
   "execution_count": 62,
   "metadata": {
    "collapsed": false
   },
   "outputs": [
    {
     "name": "stdout",
     "output_type": "stream",
     "text": [
      "{'Monday': 69.0, 'Tuesday': 70.0, 'Wednesday': 73.0, 'Thursday': 77.0, 'Friday': 69.0, 'Saturday': 66.0, 'Sunday': 68.0}\n"
     ]
    }
   ],
   "source": [
    "print(avg_temp_dict)"
   ]
  },
  {
   "cell_type": "code",
   "execution_count": 63,
   "metadata": {
    "collapsed": false
   },
   "outputs": [
    {
     "data": {
      "text/plain": [
       "dict"
      ]
     },
     "execution_count": 63,
     "metadata": {},
     "output_type": "execute_result"
    }
   ],
   "source": [
    "type(avg_temp_dict) #we have a dictionary"
   ]
  },
  {
   "cell_type": "code",
   "execution_count": 64,
   "metadata": {
    "collapsed": true
   },
   "outputs": [],
   "source": [
    "import pandas as pd #import the package"
   ]
  },
  {
   "cell_type": "code",
   "execution_count": 65,
   "metadata": {
    "collapsed": true
   },
   "outputs": [],
   "source": [
    "avg_temp_series = pd.Series(avg_temp_dict) #convert the dictionary to a series"
   ]
  },
  {
   "cell_type": "code",
   "execution_count": 66,
   "metadata": {
    "collapsed": false
   },
   "outputs": [
    {
     "name": "stdout",
     "output_type": "stream",
     "text": [
      "Monday       69.0\n",
      "Tuesday      70.0\n",
      "Wednesday    73.0\n",
      "Thursday     77.0\n",
      "Friday       69.0\n",
      "Saturday     66.0\n",
      "Sunday       68.0\n",
      "dtype: float64\n"
     ]
    }
   ],
   "source": [
    "print(avg_temp_series)"
   ]
  },
  {
   "cell_type": "code",
   "execution_count": 67,
   "metadata": {
    "collapsed": false
   },
   "outputs": [
    {
     "data": {
      "text/plain": [
       "pandas.core.series.Series"
      ]
     },
     "execution_count": 67,
     "metadata": {},
     "output_type": "execute_result"
    }
   ],
   "source": [
    "type(avg_temp_series) #this object is a pandas series"
   ]
  },
  {
   "cell_type": "markdown",
   "metadata": {},
   "source": [
    "Pandas series are analagous to dictionaries in that have a key (called an index) and a value stored for each index. You can retreive the index or value in a similar way to dictionaries."
   ]
  },
  {
   "cell_type": "code",
   "execution_count": 68,
   "metadata": {
    "collapsed": false
   },
   "outputs": [
    {
     "data": {
      "text/plain": [
       "Index(['Monday', 'Tuesday', 'Wednesday', 'Thursday', 'Friday', 'Saturday',\n",
       "       'Sunday'],\n",
       "      dtype='object')"
      ]
     },
     "execution_count": 68,
     "metadata": {},
     "output_type": "execute_result"
    }
   ],
   "source": [
    "avg_temp_series.index #get the index (days of the week)"
   ]
  },
  {
   "cell_type": "code",
   "execution_count": 69,
   "metadata": {
    "collapsed": false
   },
   "outputs": [
    {
     "data": {
      "text/plain": [
       "array([69., 70., 73., 77., 69., 66., 68.])"
      ]
     },
     "execution_count": 69,
     "metadata": {},
     "output_type": "execute_result"
    }
   ],
   "source": [
    "avg_temp_series.values #get just the values (temperatures)"
   ]
  },
  {
   "cell_type": "markdown",
   "metadata": {},
   "source": [
    "Notice that the structure of the values looks like a numpy array. Let's check the object type:"
   ]
  },
  {
   "cell_type": "code",
   "execution_count": 70,
   "metadata": {
    "collapsed": false
   },
   "outputs": [
    {
     "data": {
      "text/plain": [
       "numpy.ndarray"
      ]
     },
     "execution_count": 70,
     "metadata": {},
     "output_type": "execute_result"
    }
   ],
   "source": [
    "type(avg_temp_series.values)"
   ]
  },
  {
   "cell_type": "markdown",
   "metadata": {},
   "source": [
    "Indeed it is a numpy array! Pandas *runs on* Numpy and uses it to build other data structures that are more convenient when analyzing messy data. You can do some cool things with *pandas series* just like with *numpy arrays*:"
   ]
  },
  {
   "cell_type": "code",
   "execution_count": 71,
   "metadata": {
    "collapsed": false
   },
   "outputs": [
    {
     "data": {
      "text/plain": [
       "492.0"
      ]
     },
     "execution_count": 71,
     "metadata": {},
     "output_type": "execute_result"
    }
   ],
   "source": [
    "avg_temp_series.sum() #returns the sum of the temperatures"
   ]
  },
  {
   "cell_type": "code",
   "execution_count": 72,
   "metadata": {
    "collapsed": false
   },
   "outputs": [
    {
     "data": {
      "text/plain": [
       "70.28571428571429"
      ]
     },
     "execution_count": 72,
     "metadata": {},
     "output_type": "execute_result"
    }
   ],
   "source": [
    "avg_temp_series.mean() #returns the mean of the temperatures"
   ]
  },
  {
   "cell_type": "code",
   "execution_count": 73,
   "metadata": {
    "collapsed": false
   },
   "outputs": [
    {
     "data": {
      "text/plain": [
       "69.0"
      ]
     },
     "execution_count": 73,
     "metadata": {},
     "output_type": "execute_result"
    }
   ],
   "source": [
    "avg_temp_series.median() #returns the median temperature throughout the week"
   ]
  },
  {
   "cell_type": "markdown",
   "metadata": {},
   "source": [
    "# References"
   ]
  },
  {
   "cell_type": "markdown",
   "metadata": {},
   "source": [
    "**Setting up Jupyter & Tutorial**\n",
    "\n",
    "- [https://www.dataquest.io/blog/jupyter-notebook-tutorial/](https://www.dataquest.io/blog/jupyter-notebook-tutorial/)\n",
    "\n",
    "**Anaconda Distribution**\n",
    "\n",
    "- [https://www.anaconda.com/distribution/](https://www.anaconda.com/distribution/)"
   ]
  }
 ],
 "metadata": {
  "kernelspec": {
   "display_name": "Python 2",
   "language": "python",
   "name": "python2"
  },
  "language_info": {
   "codemirror_mode": {
    "name": "ipython",
    "version": 2
   },
   "file_extension": ".py",
   "mimetype": "text/x-python",
   "name": "python",
   "nbconvert_exporter": "python",
   "pygments_lexer": "ipython2",
   "version": "2.7.15"
  }
 },
 "nbformat": 4,
 "nbformat_minor": 2
}
